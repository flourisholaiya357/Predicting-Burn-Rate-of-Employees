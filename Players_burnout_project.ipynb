{
 "cells": [
  {
   "cell_type": "markdown",
   "id": "83534aed",
   "metadata": {},
   "source": [
    "## Predicting the Burnout Rate Of Employees\n",
    "#### Scope: Careers and Human Management\n",
    "It's been discovered that employees tend to get tired and burnout due to various reasons..."
   ]
  },
  {
   "cell_type": "code",
   "execution_count": 1,
   "id": "4b853a3a",
   "metadata": {},
   "outputs": [],
   "source": [
    "import numpy as np\n",
    "import pandas as pd\n",
    "import matplotlib.pyplot as plt\n",
    "import seaborn as sns"
   ]
  },
  {
   "cell_type": "code",
   "execution_count": 2,
   "id": "33415809",
   "metadata": {
    "scrolled": true
   },
   "outputs": [
    {
     "data": {
      "text/html": [
       "<div>\n",
       "<style scoped>\n",
       "    .dataframe tbody tr th:only-of-type {\n",
       "        vertical-align: middle;\n",
       "    }\n",
       "\n",
       "    .dataframe tbody tr th {\n",
       "        vertical-align: top;\n",
       "    }\n",
       "\n",
       "    .dataframe thead th {\n",
       "        text-align: right;\n",
       "    }\n",
       "</style>\n",
       "<table border=\"1\" class=\"dataframe\">\n",
       "  <thead>\n",
       "    <tr style=\"text-align: right;\">\n",
       "      <th></th>\n",
       "      <th>Employee ID</th>\n",
       "      <th>Date of Joining</th>\n",
       "      <th>Gender</th>\n",
       "      <th>Company Type</th>\n",
       "      <th>WFH Setup Available</th>\n",
       "      <th>Designation</th>\n",
       "      <th>Resource Allocation</th>\n",
       "      <th>Mental Fatigue Score</th>\n",
       "      <th>Burn Rate</th>\n",
       "    </tr>\n",
       "  </thead>\n",
       "  <tbody>\n",
       "    <tr>\n",
       "      <th>22738</th>\n",
       "      <td>fffe31003300340032003900</td>\n",
       "      <td>2008-12-23</td>\n",
       "      <td>Male</td>\n",
       "      <td>Service</td>\n",
       "      <td>Yes</td>\n",
       "      <td>0.0</td>\n",
       "      <td>1.0</td>\n",
       "      <td>4.9</td>\n",
       "      <td>0.29</td>\n",
       "    </tr>\n",
       "    <tr>\n",
       "      <th>22739</th>\n",
       "      <td>fffe32003300350034003100</td>\n",
       "      <td>2008-02-06</td>\n",
       "      <td>Male</td>\n",
       "      <td>Service</td>\n",
       "      <td>No</td>\n",
       "      <td>2.0</td>\n",
       "      <td>5.0</td>\n",
       "      <td>8.5</td>\n",
       "      <td>0.67</td>\n",
       "    </tr>\n",
       "    <tr>\n",
       "      <th>22740</th>\n",
       "      <td>fffe33003300380031003100</td>\n",
       "      <td>2008-09-05</td>\n",
       "      <td>Female</td>\n",
       "      <td>Product</td>\n",
       "      <td>No</td>\n",
       "      <td>3.0</td>\n",
       "      <td>6.0</td>\n",
       "      <td>7.3</td>\n",
       "      <td>0.55</td>\n",
       "    </tr>\n",
       "    <tr>\n",
       "      <th>22741</th>\n",
       "      <td>fffe31003600350034003800</td>\n",
       "      <td>2008-01-07</td>\n",
       "      <td>Male</td>\n",
       "      <td>Product</td>\n",
       "      <td>No</td>\n",
       "      <td>2.0</td>\n",
       "      <td>5.0</td>\n",
       "      <td>6.0</td>\n",
       "      <td>NaN</td>\n",
       "    </tr>\n",
       "    <tr>\n",
       "      <th>22742</th>\n",
       "      <td>fffe33003200310039003000</td>\n",
       "      <td>2008-07-28</td>\n",
       "      <td>Male</td>\n",
       "      <td>Product</td>\n",
       "      <td>No</td>\n",
       "      <td>3.0</td>\n",
       "      <td>5.0</td>\n",
       "      <td>8.1</td>\n",
       "      <td>0.69</td>\n",
       "    </tr>\n",
       "    <tr>\n",
       "      <th>22743</th>\n",
       "      <td>fffe3300390030003600</td>\n",
       "      <td>2008-12-15</td>\n",
       "      <td>Female</td>\n",
       "      <td>Product</td>\n",
       "      <td>Yes</td>\n",
       "      <td>1.0</td>\n",
       "      <td>3.0</td>\n",
       "      <td>6.0</td>\n",
       "      <td>0.48</td>\n",
       "    </tr>\n",
       "    <tr>\n",
       "      <th>22744</th>\n",
       "      <td>fffe32003500370033003200</td>\n",
       "      <td>2008-05-27</td>\n",
       "      <td>Male</td>\n",
       "      <td>Product</td>\n",
       "      <td>No</td>\n",
       "      <td>3.0</td>\n",
       "      <td>7.0</td>\n",
       "      <td>6.2</td>\n",
       "      <td>0.54</td>\n",
       "    </tr>\n",
       "    <tr>\n",
       "      <th>22745</th>\n",
       "      <td>fffe31003500370039003100</td>\n",
       "      <td>2008-12-30</td>\n",
       "      <td>Female</td>\n",
       "      <td>Service</td>\n",
       "      <td>No</td>\n",
       "      <td>1.0</td>\n",
       "      <td>3.0</td>\n",
       "      <td>NaN</td>\n",
       "      <td>0.41</td>\n",
       "    </tr>\n",
       "    <tr>\n",
       "      <th>22746</th>\n",
       "      <td>fffe33003000350031003800</td>\n",
       "      <td>2008-01-19</td>\n",
       "      <td>Female</td>\n",
       "      <td>Product</td>\n",
       "      <td>Yes</td>\n",
       "      <td>3.0</td>\n",
       "      <td>6.0</td>\n",
       "      <td>6.7</td>\n",
       "      <td>0.59</td>\n",
       "    </tr>\n",
       "    <tr>\n",
       "      <th>22747</th>\n",
       "      <td>fffe390032003000</td>\n",
       "      <td>2008-11-05</td>\n",
       "      <td>Male</td>\n",
       "      <td>Service</td>\n",
       "      <td>Yes</td>\n",
       "      <td>3.0</td>\n",
       "      <td>7.0</td>\n",
       "      <td>NaN</td>\n",
       "      <td>0.72</td>\n",
       "    </tr>\n",
       "    <tr>\n",
       "      <th>22748</th>\n",
       "      <td>fffe33003300320036003900</td>\n",
       "      <td>2008-01-10</td>\n",
       "      <td>Female</td>\n",
       "      <td>Service</td>\n",
       "      <td>No</td>\n",
       "      <td>2.0</td>\n",
       "      <td>5.0</td>\n",
       "      <td>5.9</td>\n",
       "      <td>0.52</td>\n",
       "    </tr>\n",
       "    <tr>\n",
       "      <th>22749</th>\n",
       "      <td>fffe3400350031003800</td>\n",
       "      <td>2008-01-06</td>\n",
       "      <td>Male</td>\n",
       "      <td>Product</td>\n",
       "      <td>No</td>\n",
       "      <td>3.0</td>\n",
       "      <td>6.0</td>\n",
       "      <td>7.8</td>\n",
       "      <td>0.61</td>\n",
       "    </tr>\n",
       "  </tbody>\n",
       "</table>\n",
       "</div>"
      ],
      "text/plain": [
       "                    Employee ID Date of Joining  Gender Company Type  \\\n",
       "22738  fffe31003300340032003900      2008-12-23    Male      Service   \n",
       "22739  fffe32003300350034003100      2008-02-06    Male      Service   \n",
       "22740  fffe33003300380031003100      2008-09-05  Female      Product   \n",
       "22741  fffe31003600350034003800      2008-01-07    Male      Product   \n",
       "22742  fffe33003200310039003000      2008-07-28    Male      Product   \n",
       "22743      fffe3300390030003600      2008-12-15  Female      Product   \n",
       "22744  fffe32003500370033003200      2008-05-27    Male      Product   \n",
       "22745  fffe31003500370039003100      2008-12-30  Female      Service   \n",
       "22746  fffe33003000350031003800      2008-01-19  Female      Product   \n",
       "22747          fffe390032003000      2008-11-05    Male      Service   \n",
       "22748  fffe33003300320036003900      2008-01-10  Female      Service   \n",
       "22749      fffe3400350031003800      2008-01-06    Male      Product   \n",
       "\n",
       "      WFH Setup Available  Designation  Resource Allocation  \\\n",
       "22738                 Yes          0.0                  1.0   \n",
       "22739                  No          2.0                  5.0   \n",
       "22740                  No          3.0                  6.0   \n",
       "22741                  No          2.0                  5.0   \n",
       "22742                  No          3.0                  5.0   \n",
       "22743                 Yes          1.0                  3.0   \n",
       "22744                  No          3.0                  7.0   \n",
       "22745                  No          1.0                  3.0   \n",
       "22746                 Yes          3.0                  6.0   \n",
       "22747                 Yes          3.0                  7.0   \n",
       "22748                  No          2.0                  5.0   \n",
       "22749                  No          3.0                  6.0   \n",
       "\n",
       "       Mental Fatigue Score  Burn Rate  \n",
       "22738                   4.9       0.29  \n",
       "22739                   8.5       0.67  \n",
       "22740                   7.3       0.55  \n",
       "22741                   6.0        NaN  \n",
       "22742                   8.1       0.69  \n",
       "22743                   6.0       0.48  \n",
       "22744                   6.2       0.54  \n",
       "22745                   NaN       0.41  \n",
       "22746                   6.7       0.59  \n",
       "22747                   NaN       0.72  \n",
       "22748                   5.9       0.52  \n",
       "22749                   7.8       0.61  "
      ]
     },
     "execution_count": 2,
     "metadata": {},
     "output_type": "execute_result"
    }
   ],
   "source": [
    "df = pd.read_csv(\"train.csv\")\n",
    "df.tail(12)"
   ]
  },
  {
   "cell_type": "markdown",
   "id": "96ea7b67",
   "metadata": {},
   "source": [
    "## Cleaning the Data"
   ]
  },
  {
   "cell_type": "code",
   "execution_count": 3,
   "id": "6a011808",
   "metadata": {},
   "outputs": [
    {
     "data": {
      "text/plain": [
       "Employee ID                0\n",
       "Date of Joining            0\n",
       "Gender                     0\n",
       "Company Type               0\n",
       "WFH Setup Available        0\n",
       "Designation                0\n",
       "Resource Allocation     1381\n",
       "Mental Fatigue Score    2117\n",
       "Burn Rate               1124\n",
       "dtype: int64"
      ]
     },
     "execution_count": 3,
     "metadata": {},
     "output_type": "execute_result"
    }
   ],
   "source": [
    "df.isna().sum()"
   ]
  },
  {
   "cell_type": "code",
   "execution_count": 4,
   "id": "7de65b02",
   "metadata": {},
   "outputs": [],
   "source": [
    "df1 = df.dropna()"
   ]
  },
  {
   "cell_type": "code",
   "execution_count": 5,
   "id": "6b6584de",
   "metadata": {},
   "outputs": [
    {
     "data": {
      "text/plain": [
       "Employee ID             0\n",
       "Date of Joining         0\n",
       "Gender                  0\n",
       "Company Type            0\n",
       "WFH Setup Available     0\n",
       "Designation             0\n",
       "Resource Allocation     0\n",
       "Mental Fatigue Score    0\n",
       "Burn Rate               0\n",
       "dtype: int64"
      ]
     },
     "execution_count": 5,
     "metadata": {},
     "output_type": "execute_result"
    }
   ],
   "source": [
    "df1.isnull().sum()"
   ]
  },
  {
   "cell_type": "code",
   "execution_count": 6,
   "id": "b4c4a792",
   "metadata": {
    "scrolled": true
   },
   "outputs": [
    {
     "name": "stderr",
     "output_type": "stream",
     "text": [
      "C:\\Users\\hp\\anaconda3\\lib\\site-packages\\pandas\\core\\generic.py:5494: SettingWithCopyWarning: \n",
      "A value is trying to be set on a copy of a slice from a DataFrame.\n",
      "Try using .loc[row_indexer,col_indexer] = value instead\n",
      "\n",
      "See the caveats in the documentation: https://pandas.pydata.org/pandas-docs/stable/user_guide/indexing.html#returning-a-view-versus-a-copy\n",
      "  self[name] = value\n",
      "<ipython-input-6-97259eaf4d20>:5: SettingWithCopyWarning: \n",
      "A value is trying to be set on a copy of a slice from a DataFrame.\n",
      "Try using .loc[row_indexer,col_indexer] = value instead\n",
      "\n",
      "See the caveats in the documentation: https://pandas.pydata.org/pandas-docs/stable/user_guide/indexing.html#returning-a-view-versus-a-copy\n",
      "  df2[\"WFH Setup Available\"] = le.fit_transform(df2[\"WFH Setup Available\"])\n",
      "<ipython-input-6-97259eaf4d20>:6: SettingWithCopyWarning: \n",
      "A value is trying to be set on a copy of a slice from a DataFrame.\n",
      "Try using .loc[row_indexer,col_indexer] = value instead\n",
      "\n",
      "See the caveats in the documentation: https://pandas.pydata.org/pandas-docs/stable/user_guide/indexing.html#returning-a-view-versus-a-copy\n",
      "  df2[\"Company Type\"] = le.fit_transform(df2[\"Company Type\"])\n"
     ]
    },
    {
     "data": {
      "text/html": [
       "<div>\n",
       "<style scoped>\n",
       "    .dataframe tbody tr th:only-of-type {\n",
       "        vertical-align: middle;\n",
       "    }\n",
       "\n",
       "    .dataframe tbody tr th {\n",
       "        vertical-align: top;\n",
       "    }\n",
       "\n",
       "    .dataframe thead th {\n",
       "        text-align: right;\n",
       "    }\n",
       "</style>\n",
       "<table border=\"1\" class=\"dataframe\">\n",
       "  <thead>\n",
       "    <tr style=\"text-align: right;\">\n",
       "      <th></th>\n",
       "      <th>Employee ID</th>\n",
       "      <th>Date of Joining</th>\n",
       "      <th>Gender</th>\n",
       "      <th>Company Type</th>\n",
       "      <th>WFH Setup Available</th>\n",
       "      <th>Designation</th>\n",
       "      <th>Resource Allocation</th>\n",
       "      <th>Mental Fatigue Score</th>\n",
       "      <th>Burn Rate</th>\n",
       "    </tr>\n",
       "  </thead>\n",
       "  <tbody>\n",
       "    <tr>\n",
       "      <th>0</th>\n",
       "      <td>fffe32003000360033003200</td>\n",
       "      <td>2008-09-30</td>\n",
       "      <td>0</td>\n",
       "      <td>1</td>\n",
       "      <td>0</td>\n",
       "      <td>2.0</td>\n",
       "      <td>3.0</td>\n",
       "      <td>3.8</td>\n",
       "      <td>0.16</td>\n",
       "    </tr>\n",
       "    <tr>\n",
       "      <th>1</th>\n",
       "      <td>fffe3700360033003500</td>\n",
       "      <td>2008-11-30</td>\n",
       "      <td>1</td>\n",
       "      <td>1</td>\n",
       "      <td>1</td>\n",
       "      <td>1.0</td>\n",
       "      <td>2.0</td>\n",
       "      <td>5.0</td>\n",
       "      <td>0.36</td>\n",
       "    </tr>\n",
       "    <tr>\n",
       "      <th>3</th>\n",
       "      <td>fffe32003400380032003900</td>\n",
       "      <td>2008-11-03</td>\n",
       "      <td>1</td>\n",
       "      <td>1</td>\n",
       "      <td>1</td>\n",
       "      <td>1.0</td>\n",
       "      <td>1.0</td>\n",
       "      <td>2.6</td>\n",
       "      <td>0.20</td>\n",
       "    </tr>\n",
       "    <tr>\n",
       "      <th>4</th>\n",
       "      <td>fffe31003900340031003600</td>\n",
       "      <td>2008-07-24</td>\n",
       "      <td>0</td>\n",
       "      <td>1</td>\n",
       "      <td>0</td>\n",
       "      <td>3.0</td>\n",
       "      <td>7.0</td>\n",
       "      <td>6.9</td>\n",
       "      <td>0.52</td>\n",
       "    </tr>\n",
       "    <tr>\n",
       "      <th>5</th>\n",
       "      <td>fffe3300350037003500</td>\n",
       "      <td>2008-11-26</td>\n",
       "      <td>1</td>\n",
       "      <td>0</td>\n",
       "      <td>1</td>\n",
       "      <td>2.0</td>\n",
       "      <td>4.0</td>\n",
       "      <td>3.6</td>\n",
       "      <td>0.29</td>\n",
       "    </tr>\n",
       "  </tbody>\n",
       "</table>\n",
       "</div>"
      ],
      "text/plain": [
       "                Employee ID Date of Joining  Gender  Company Type  \\\n",
       "0  fffe32003000360033003200      2008-09-30       0             1   \n",
       "1      fffe3700360033003500      2008-11-30       1             1   \n",
       "3  fffe32003400380032003900      2008-11-03       1             1   \n",
       "4  fffe31003900340031003600      2008-07-24       0             1   \n",
       "5      fffe3300350037003500      2008-11-26       1             0   \n",
       "\n",
       "   WFH Setup Available  Designation  Resource Allocation  \\\n",
       "0                    0          2.0                  3.0   \n",
       "1                    1          1.0                  2.0   \n",
       "3                    1          1.0                  1.0   \n",
       "4                    0          3.0                  7.0   \n",
       "5                    1          2.0                  4.0   \n",
       "\n",
       "   Mental Fatigue Score  Burn Rate  \n",
       "0                   3.8       0.16  \n",
       "1                   5.0       0.36  \n",
       "3                   2.6       0.20  \n",
       "4                   6.9       0.52  \n",
       "5                   3.6       0.29  "
      ]
     },
     "execution_count": 6,
     "metadata": {},
     "output_type": "execute_result"
    }
   ],
   "source": [
    "from sklearn.preprocessing import LabelEncoder\n",
    "le = LabelEncoder()\n",
    "df2 = df1\n",
    "df2.Gender = le.fit_transform(df2.Gender)\n",
    "df2[\"WFH Setup Available\"] = le.fit_transform(df2[\"WFH Setup Available\"])\n",
    "df2[\"Company Type\"] = le.fit_transform(df2[\"Company Type\"])\n",
    "df2.head()"
   ]
  },
  {
   "cell_type": "code",
   "execution_count": 7,
   "id": "1bae0f21",
   "metadata": {
    "scrolled": true
   },
   "outputs": [
    {
     "name": "stdout",
     "output_type": "stream",
     "text": [
      "<class 'pandas.core.frame.DataFrame'>\n",
      "Int64Index: 18590 entries, 0 to 22749\n",
      "Data columns (total 9 columns):\n",
      " #   Column                Non-Null Count  Dtype  \n",
      "---  ------                --------------  -----  \n",
      " 0   Employee ID           18590 non-null  object \n",
      " 1   Date of Joining       18590 non-null  object \n",
      " 2   Gender                18590 non-null  int32  \n",
      " 3   Company Type          18590 non-null  int32  \n",
      " 4   WFH Setup Available   18590 non-null  int32  \n",
      " 5   Designation           18590 non-null  float64\n",
      " 6   Resource Allocation   18590 non-null  float64\n",
      " 7   Mental Fatigue Score  18590 non-null  float64\n",
      " 8   Burn Rate             18590 non-null  float64\n",
      "dtypes: float64(4), int32(3), object(2)\n",
      "memory usage: 1.2+ MB\n"
     ]
    }
   ],
   "source": [
    "df2.info()"
   ]
  },
  {
   "cell_type": "markdown",
   "id": "77b01c39",
   "metadata": {},
   "source": [
    "## Feature Engineering and Selection"
   ]
  },
  {
   "cell_type": "code",
   "execution_count": 8,
   "id": "cd5608b2",
   "metadata": {},
   "outputs": [
    {
     "data": {
      "text/plain": [
       "Index(['Employee ID', 'Date of Joining', 'Gender', 'Company Type',\n",
       "       'WFH Setup Available', 'Designation', 'Resource Allocation',\n",
       "       'Mental Fatigue Score', 'Burn Rate'],\n",
       "      dtype='object')"
      ]
     },
     "execution_count": 8,
     "metadata": {},
     "output_type": "execute_result"
    }
   ],
   "source": [
    "df2.columns"
   ]
  },
  {
   "cell_type": "code",
   "execution_count": 9,
   "id": "d79ebdf0",
   "metadata": {},
   "outputs": [
    {
     "data": {
      "text/html": [
       "<div>\n",
       "<style scoped>\n",
       "    .dataframe tbody tr th:only-of-type {\n",
       "        vertical-align: middle;\n",
       "    }\n",
       "\n",
       "    .dataframe tbody tr th {\n",
       "        vertical-align: top;\n",
       "    }\n",
       "\n",
       "    .dataframe thead th {\n",
       "        text-align: right;\n",
       "    }\n",
       "</style>\n",
       "<table border=\"1\" class=\"dataframe\">\n",
       "  <thead>\n",
       "    <tr style=\"text-align: right;\">\n",
       "      <th></th>\n",
       "      <th>Gender</th>\n",
       "      <th>Company Type</th>\n",
       "      <th>WFH Setup Available</th>\n",
       "      <th>Designation</th>\n",
       "      <th>Resource Allocation</th>\n",
       "      <th>Mental Fatigue Score</th>\n",
       "      <th>Burn Rate</th>\n",
       "    </tr>\n",
       "  </thead>\n",
       "  <tbody>\n",
       "    <tr>\n",
       "      <th>count</th>\n",
       "      <td>18590.000000</td>\n",
       "      <td>18590.000000</td>\n",
       "      <td>18590.000000</td>\n",
       "      <td>18590.000000</td>\n",
       "      <td>18590.000000</td>\n",
       "      <td>18590.000000</td>\n",
       "      <td>18590.000000</td>\n",
       "    </tr>\n",
       "    <tr>\n",
       "      <th>mean</th>\n",
       "      <td>0.475686</td>\n",
       "      <td>0.654868</td>\n",
       "      <td>0.539537</td>\n",
       "      <td>2.179398</td>\n",
       "      <td>4.486552</td>\n",
       "      <td>5.732173</td>\n",
       "      <td>0.452444</td>\n",
       "    </tr>\n",
       "    <tr>\n",
       "      <th>std</th>\n",
       "      <td>0.499422</td>\n",
       "      <td>0.475424</td>\n",
       "      <td>0.498448</td>\n",
       "      <td>1.133148</td>\n",
       "      <td>2.044848</td>\n",
       "      <td>1.920547</td>\n",
       "      <td>0.197848</td>\n",
       "    </tr>\n",
       "    <tr>\n",
       "      <th>min</th>\n",
       "      <td>0.000000</td>\n",
       "      <td>0.000000</td>\n",
       "      <td>0.000000</td>\n",
       "      <td>0.000000</td>\n",
       "      <td>1.000000</td>\n",
       "      <td>0.000000</td>\n",
       "      <td>0.000000</td>\n",
       "    </tr>\n",
       "    <tr>\n",
       "      <th>25%</th>\n",
       "      <td>0.000000</td>\n",
       "      <td>0.000000</td>\n",
       "      <td>0.000000</td>\n",
       "      <td>1.000000</td>\n",
       "      <td>3.000000</td>\n",
       "      <td>4.600000</td>\n",
       "      <td>0.320000</td>\n",
       "    </tr>\n",
       "    <tr>\n",
       "      <th>50%</th>\n",
       "      <td>0.000000</td>\n",
       "      <td>1.000000</td>\n",
       "      <td>1.000000</td>\n",
       "      <td>2.000000</td>\n",
       "      <td>4.000000</td>\n",
       "      <td>5.900000</td>\n",
       "      <td>0.450000</td>\n",
       "    </tr>\n",
       "    <tr>\n",
       "      <th>75%</th>\n",
       "      <td>1.000000</td>\n",
       "      <td>1.000000</td>\n",
       "      <td>1.000000</td>\n",
       "      <td>3.000000</td>\n",
       "      <td>6.000000</td>\n",
       "      <td>7.100000</td>\n",
       "      <td>0.590000</td>\n",
       "    </tr>\n",
       "    <tr>\n",
       "      <th>max</th>\n",
       "      <td>1.000000</td>\n",
       "      <td>1.000000</td>\n",
       "      <td>1.000000</td>\n",
       "      <td>5.000000</td>\n",
       "      <td>10.000000</td>\n",
       "      <td>10.000000</td>\n",
       "      <td>1.000000</td>\n",
       "    </tr>\n",
       "  </tbody>\n",
       "</table>\n",
       "</div>"
      ],
      "text/plain": [
       "             Gender  Company Type  WFH Setup Available   Designation  \\\n",
       "count  18590.000000  18590.000000         18590.000000  18590.000000   \n",
       "mean       0.475686      0.654868             0.539537      2.179398   \n",
       "std        0.499422      0.475424             0.498448      1.133148   \n",
       "min        0.000000      0.000000             0.000000      0.000000   \n",
       "25%        0.000000      0.000000             0.000000      1.000000   \n",
       "50%        0.000000      1.000000             1.000000      2.000000   \n",
       "75%        1.000000      1.000000             1.000000      3.000000   \n",
       "max        1.000000      1.000000             1.000000      5.000000   \n",
       "\n",
       "       Resource Allocation  Mental Fatigue Score     Burn Rate  \n",
       "count         18590.000000          18590.000000  18590.000000  \n",
       "mean              4.486552              5.732173      0.452444  \n",
       "std               2.044848              1.920547      0.197848  \n",
       "min               1.000000              0.000000      0.000000  \n",
       "25%               3.000000              4.600000      0.320000  \n",
       "50%               4.000000              5.900000      0.450000  \n",
       "75%               6.000000              7.100000      0.590000  \n",
       "max              10.000000             10.000000      1.000000  "
      ]
     },
     "execution_count": 9,
     "metadata": {},
     "output_type": "execute_result"
    }
   ],
   "source": [
    "df2.describe()"
   ]
  },
  {
   "cell_type": "code",
   "execution_count": 10,
   "id": "c2dd6218",
   "metadata": {},
   "outputs": [
    {
     "data": {
      "text/html": [
       "<div>\n",
       "<style scoped>\n",
       "    .dataframe tbody tr th:only-of-type {\n",
       "        vertical-align: middle;\n",
       "    }\n",
       "\n",
       "    .dataframe tbody tr th {\n",
       "        vertical-align: top;\n",
       "    }\n",
       "\n",
       "    .dataframe thead th {\n",
       "        text-align: right;\n",
       "    }\n",
       "</style>\n",
       "<table border=\"1\" class=\"dataframe\">\n",
       "  <thead>\n",
       "    <tr style=\"text-align: right;\">\n",
       "      <th></th>\n",
       "      <th>Employee ID</th>\n",
       "      <th>Date of Joining</th>\n",
       "      <th>Gender</th>\n",
       "      <th>WFH Setup Available</th>\n",
       "      <th>Designation</th>\n",
       "      <th>Resource Allocation</th>\n",
       "      <th>Mental Fatigue Score</th>\n",
       "      <th>Burn Rate</th>\n",
       "    </tr>\n",
       "    <tr>\n",
       "      <th>Company Type</th>\n",
       "      <th></th>\n",
       "      <th></th>\n",
       "      <th></th>\n",
       "      <th></th>\n",
       "      <th></th>\n",
       "      <th></th>\n",
       "      <th></th>\n",
       "      <th></th>\n",
       "    </tr>\n",
       "  </thead>\n",
       "  <tbody>\n",
       "    <tr>\n",
       "      <th>0</th>\n",
       "      <td>6416</td>\n",
       "      <td>6416</td>\n",
       "      <td>6416</td>\n",
       "      <td>6416</td>\n",
       "      <td>6416</td>\n",
       "      <td>6416</td>\n",
       "      <td>6416</td>\n",
       "      <td>6416</td>\n",
       "    </tr>\n",
       "    <tr>\n",
       "      <th>1</th>\n",
       "      <td>12174</td>\n",
       "      <td>12174</td>\n",
       "      <td>12174</td>\n",
       "      <td>12174</td>\n",
       "      <td>12174</td>\n",
       "      <td>12174</td>\n",
       "      <td>12174</td>\n",
       "      <td>12174</td>\n",
       "    </tr>\n",
       "  </tbody>\n",
       "</table>\n",
       "</div>"
      ],
      "text/plain": [
       "              Employee ID  Date of Joining  Gender  WFH Setup Available  \\\n",
       "Company Type                                                              \n",
       "0                    6416             6416    6416                 6416   \n",
       "1                   12174            12174   12174                12174   \n",
       "\n",
       "              Designation  Resource Allocation  Mental Fatigue Score  \\\n",
       "Company Type                                                           \n",
       "0                    6416                 6416                  6416   \n",
       "1                   12174                12174                 12174   \n",
       "\n",
       "              Burn Rate  \n",
       "Company Type             \n",
       "0                  6416  \n",
       "1                 12174  "
      ]
     },
     "execution_count": 10,
     "metadata": {},
     "output_type": "execute_result"
    }
   ],
   "source": [
    "#To check the rate of burn and the company type\n",
    "\n",
    "df2.groupby(\"Company Type\").count()"
   ]
  },
  {
   "cell_type": "code",
   "execution_count": 11,
   "id": "b2e87cd8",
   "metadata": {},
   "outputs": [
    {
     "data": {
      "text/html": [
       "<div>\n",
       "<style scoped>\n",
       "    .dataframe tbody tr th:only-of-type {\n",
       "        vertical-align: middle;\n",
       "    }\n",
       "\n",
       "    .dataframe tbody tr th {\n",
       "        vertical-align: top;\n",
       "    }\n",
       "\n",
       "    .dataframe thead th {\n",
       "        text-align: right;\n",
       "    }\n",
       "</style>\n",
       "<table border=\"1\" class=\"dataframe\">\n",
       "  <thead>\n",
       "    <tr style=\"text-align: right;\">\n",
       "      <th></th>\n",
       "      <th>Gender</th>\n",
       "    </tr>\n",
       "    <tr>\n",
       "      <th>Gender</th>\n",
       "      <th></th>\n",
       "    </tr>\n",
       "  </thead>\n",
       "  <tbody>\n",
       "    <tr>\n",
       "      <th>0</th>\n",
       "      <td>9747</td>\n",
       "    </tr>\n",
       "    <tr>\n",
       "      <th>1</th>\n",
       "      <td>8843</td>\n",
       "    </tr>\n",
       "  </tbody>\n",
       "</table>\n",
       "</div>"
      ],
      "text/plain": [
       "        Gender\n",
       "Gender        \n",
       "0         9747\n",
       "1         8843"
      ]
     },
     "execution_count": 11,
     "metadata": {},
     "output_type": "execute_result"
    }
   ],
   "source": [
    "# To check the burn rate among the genders\n",
    "\n",
    "df2.groupby(\"Gender\").Gender.count().to_frame()"
   ]
  },
  {
   "cell_type": "code",
   "execution_count": 12,
   "id": "3369f3f4",
   "metadata": {},
   "outputs": [
    {
     "data": {
      "text/html": [
       "<div>\n",
       "<style scoped>\n",
       "    .dataframe tbody tr th:only-of-type {\n",
       "        vertical-align: middle;\n",
       "    }\n",
       "\n",
       "    .dataframe tbody tr th {\n",
       "        vertical-align: top;\n",
       "    }\n",
       "\n",
       "    .dataframe thead th {\n",
       "        text-align: right;\n",
       "    }\n",
       "</style>\n",
       "<table border=\"1\" class=\"dataframe\">\n",
       "  <thead>\n",
       "    <tr style=\"text-align: right;\">\n",
       "      <th></th>\n",
       "      <th>Gender</th>\n",
       "      <th>Company Type</th>\n",
       "      <th>WFH Setup Available</th>\n",
       "      <th>Designation</th>\n",
       "      <th>Resource Allocation</th>\n",
       "      <th>Mental Fatigue Score</th>\n",
       "      <th>Burn Rate</th>\n",
       "    </tr>\n",
       "  </thead>\n",
       "  <tbody>\n",
       "    <tr>\n",
       "      <th>Gender</th>\n",
       "      <td>1.000000</td>\n",
       "      <td>-0.009289</td>\n",
       "      <td>-0.073718</td>\n",
       "      <td>0.110514</td>\n",
       "      <td>0.141089</td>\n",
       "      <td>0.145760</td>\n",
       "      <td>0.156577</td>\n",
       "    </tr>\n",
       "    <tr>\n",
       "      <th>Company Type</th>\n",
       "      <td>-0.009289</td>\n",
       "      <td>1.000000</td>\n",
       "      <td>-0.000756</td>\n",
       "      <td>0.008989</td>\n",
       "      <td>0.005795</td>\n",
       "      <td>0.004697</td>\n",
       "      <td>0.005904</td>\n",
       "    </tr>\n",
       "    <tr>\n",
       "      <th>WFH Setup Available</th>\n",
       "      <td>-0.073718</td>\n",
       "      <td>-0.000756</td>\n",
       "      <td>1.000000</td>\n",
       "      <td>-0.231858</td>\n",
       "      <td>-0.285384</td>\n",
       "      <td>-0.277683</td>\n",
       "      <td>-0.307168</td>\n",
       "    </tr>\n",
       "    <tr>\n",
       "      <th>Designation</th>\n",
       "      <td>0.110514</td>\n",
       "      <td>0.008989</td>\n",
       "      <td>-0.231858</td>\n",
       "      <td>1.000000</td>\n",
       "      <td>0.877893</td>\n",
       "      <td>0.691823</td>\n",
       "      <td>0.736412</td>\n",
       "    </tr>\n",
       "    <tr>\n",
       "      <th>Resource Allocation</th>\n",
       "      <td>0.141089</td>\n",
       "      <td>0.005795</td>\n",
       "      <td>-0.285384</td>\n",
       "      <td>0.877893</td>\n",
       "      <td>1.000000</td>\n",
       "      <td>0.799563</td>\n",
       "      <td>0.855005</td>\n",
       "    </tr>\n",
       "    <tr>\n",
       "      <th>Mental Fatigue Score</th>\n",
       "      <td>0.145760</td>\n",
       "      <td>0.004697</td>\n",
       "      <td>-0.277683</td>\n",
       "      <td>0.691823</td>\n",
       "      <td>0.799563</td>\n",
       "      <td>1.000000</td>\n",
       "      <td>0.944389</td>\n",
       "    </tr>\n",
       "    <tr>\n",
       "      <th>Burn Rate</th>\n",
       "      <td>0.156577</td>\n",
       "      <td>0.005904</td>\n",
       "      <td>-0.307168</td>\n",
       "      <td>0.736412</td>\n",
       "      <td>0.855005</td>\n",
       "      <td>0.944389</td>\n",
       "      <td>1.000000</td>\n",
       "    </tr>\n",
       "  </tbody>\n",
       "</table>\n",
       "</div>"
      ],
      "text/plain": [
       "                        Gender  Company Type  WFH Setup Available  \\\n",
       "Gender                1.000000     -0.009289            -0.073718   \n",
       "Company Type         -0.009289      1.000000            -0.000756   \n",
       "WFH Setup Available  -0.073718     -0.000756             1.000000   \n",
       "Designation           0.110514      0.008989            -0.231858   \n",
       "Resource Allocation   0.141089      0.005795            -0.285384   \n",
       "Mental Fatigue Score  0.145760      0.004697            -0.277683   \n",
       "Burn Rate             0.156577      0.005904            -0.307168   \n",
       "\n",
       "                      Designation  Resource Allocation  Mental Fatigue Score  \\\n",
       "Gender                   0.110514             0.141089              0.145760   \n",
       "Company Type             0.008989             0.005795              0.004697   \n",
       "WFH Setup Available     -0.231858            -0.285384             -0.277683   \n",
       "Designation              1.000000             0.877893              0.691823   \n",
       "Resource Allocation      0.877893             1.000000              0.799563   \n",
       "Mental Fatigue Score     0.691823             0.799563              1.000000   \n",
       "Burn Rate                0.736412             0.855005              0.944389   \n",
       "\n",
       "                      Burn Rate  \n",
       "Gender                 0.156577  \n",
       "Company Type           0.005904  \n",
       "WFH Setup Available   -0.307168  \n",
       "Designation            0.736412  \n",
       "Resource Allocation    0.855005  \n",
       "Mental Fatigue Score   0.944389  \n",
       "Burn Rate              1.000000  "
      ]
     },
     "execution_count": 12,
     "metadata": {},
     "output_type": "execute_result"
    }
   ],
   "source": [
    "df2.corr()"
   ]
  },
  {
   "cell_type": "code",
   "execution_count": null,
   "id": "876f370b",
   "metadata": {},
   "outputs": [],
   "source": []
  },
  {
   "cell_type": "code",
   "execution_count": null,
   "id": "127d8efe",
   "metadata": {},
   "outputs": [],
   "source": []
  },
  {
   "cell_type": "code",
   "execution_count": null,
   "id": "4cd6f2be",
   "metadata": {},
   "outputs": [],
   "source": []
  },
  {
   "cell_type": "code",
   "execution_count": null,
   "id": "c7b3ce15",
   "metadata": {},
   "outputs": [],
   "source": []
  },
  {
   "cell_type": "markdown",
   "id": "24adf8e4",
   "metadata": {},
   "source": [
    "## Visualizing the data"
   ]
  },
  {
   "cell_type": "code",
   "execution_count": 13,
   "id": "3257ff4d",
   "metadata": {},
   "outputs": [
    {
     "data": {
      "image/png": "[encoded data removed]",
      "text/plain": [
       "<Figure size 432x288 with 1 Axes>"
      ]
     },
     "metadata": {
      "needs_background": "light"
     },
     "output_type": "display_data"
    }
   ],
   "source": [
    "plt.scatter(df2['Resource Allocation'], df2['Burn Rate'])\n",
    "plt.show()"
   ]
  },
  {
   "cell_type": "code",
   "execution_count": 14,
   "id": "4ca1d4b1",
   "metadata": {},
   "outputs": [
    {
     "data": {
      "image/png": "[encoded data removed]",
      "text/plain": [
       "<Figure size 432x288 with 1 Axes>"
      ]
     },
     "metadata": {
      "needs_background": "light"
     },
     "output_type": "display_data"
    }
   ],
   "source": [
    "plt.scatter(df2[\"Mental Fatigue Score\"], df2[\"Burn Rate\"])\n",
    "plt.show()"
   ]
  },
  {
   "cell_type": "code",
   "execution_count": 15,
   "id": "d79bd452",
   "metadata": {},
   "outputs": [
    {
     "data": {
      "image/png": "[encoded data removed]",
      "text/plain": [
       "<Figure size 432x288 with 1 Axes>"
      ]
     },
     "metadata": {
      "needs_background": "light"
     },
     "output_type": "display_data"
    }
   ],
   "source": [
    "plt.scatter(df2[\"Burn Rate\"], df2[\"Designation\"])\n",
    "plt.xticks\n",
    "plt.show()"
   ]
  },
  {
   "cell_type": "code",
   "execution_count": 16,
   "id": "ce80e0e9",
   "metadata": {},
   "outputs": [
    {
     "data": {
      "text/plain": [
       "<AxesSubplot:ylabel='Density'>"
      ]
     },
     "execution_count": 16,
     "metadata": {},
     "output_type": "execute_result"
    },
    {
     "data": {
      "image/png": "[encoded data removed]",
      "text/plain": [
       "<Figure size 432x432 with 1 Axes>"
      ]
     },
     "metadata": {
      "needs_background": "light"
     },
     "output_type": "display_data"
    }
   ],
   "source": [
    "df2[\"Resource Allocation\"].value_counts().plot(kind = 'density', figsize = (6,6))"
   ]
  },
  {
   "cell_type": "code",
   "execution_count": 17,
   "id": "b0d3dfc1",
   "metadata": {},
   "outputs": [
    {
     "data": {
      "text/plain": [
       "<AxesSubplot:ylabel='Gender'>"
      ]
     },
     "execution_count": 17,
     "metadata": {},
     "output_type": "execute_result"
    },
    {
     "data": {
      "image/png": "[encoded data removed]",
      "text/plain": [
       "<Figure size 432x432 with 1 Axes>"
      ]
     },
     "metadata": {},
     "output_type": "display_data"
    }
   ],
   "source": [
    "df2[\"Gender\"].value_counts().plot(kind = 'pie', figsize = (6,6))"
   ]
  },
  {
   "cell_type": "code",
   "execution_count": 18,
   "id": "0e900eb0",
   "metadata": {},
   "outputs": [
    {
     "data": {
      "text/plain": [
       "<AxesSubplot:>"
      ]
     },
     "execution_count": 18,
     "metadata": {},
     "output_type": "execute_result"
    },
    {
     "data": {
      "image/png": "[encoded data removed]",
      "text/plain": [
       "<Figure size 432x432 with 1 Axes>"
      ]
     },
     "metadata": {
      "needs_background": "light"
     },
     "output_type": "display_data"
    }
   ],
   "source": [
    "df2[\"Mental Fatigue Score\"].value_counts().plot(kind = 'bar', figsize = (6,6))"
   ]
  },
  {
   "cell_type": "code",
   "execution_count": 19,
   "id": "284f58b5",
   "metadata": {},
   "outputs": [
    {
     "data": {
      "text/plain": [
       "<AxesSubplot:xlabel='Designation', ylabel='Burn Rate'>"
      ]
     },
     "execution_count": 19,
     "metadata": {},
     "output_type": "execute_result"
    },
    {
     "data": {
      "image/png": "[encoded data removed]",
      "text/plain": [
       "<Figure size 432x288 with 1 Axes>"
      ]
     },
     "metadata": {
      "needs_background": "light"
     },
     "output_type": "display_data"
    }
   ],
   "source": [
    "sns.regplot(x=  \"Designation\" ,   y=  \"Burn Rate\", data=df2) "
   ]
  },
  {
   "cell_type": "code",
   "execution_count": 20,
   "id": "2b3a6dff",
   "metadata": {},
   "outputs": [
    {
     "data": {
      "text/plain": [
       "<seaborn.axisgrid.PairGrid at 0x209e2ee1370>"
      ]
     },
     "execution_count": 20,
     "metadata": {},
     "output_type": "execute_result"
    },
    {
     "data": {
      "image/png": "[encoded data removed]",
      "text/plain": [
       "<Figure size 1260x1260 with 56 Axes>"
      ]
     },
     "metadata": {
      "needs_background": "light"
     },
     "output_type": "display_data"
    }
   ],
   "source": [
    "sns.pairplot(df2)"
   ]
  },
  {
   "cell_type": "markdown",
   "id": "42e2985b",
   "metadata": {},
   "source": [
    "## Modeling the Data"
   ]
  },
  {
   "cell_type": "code",
   "execution_count": 21,
   "id": "86c6f78d",
   "metadata": {},
   "outputs": [],
   "source": [
    "y = df2[\"Burn Rate\"]\n",
    "X = df2.drop([\"Burn Rate\", \"Date of Joining\", \"Employee ID\"], axis=1)"
   ]
  },
  {
   "cell_type": "code",
   "execution_count": 22,
   "id": "be209dd5",
   "metadata": {},
   "outputs": [],
   "source": [
    "from sklearn.linear_model import Ridge\n",
    "from sklearn.linear_model import Lasso\n",
    "from sklearn.linear_model import LinearRegression\n",
    "from sklearn.model_selection import train_test_split"
   ]
  },
  {
   "cell_type": "code",
   "execution_count": 23,
   "id": "e692a6f2",
   "metadata": {},
   "outputs": [],
   "source": [
    "X_train, X_test, y_train, y_test = train_test_split(X, y, test_size=0.3)"
   ]
  },
  {
   "cell_type": "code",
   "execution_count": 24,
   "id": "1903c2e7",
   "metadata": {},
   "outputs": [],
   "source": [
    "Ridge_model = Ridge()\n",
    "Ridge_model.fit(X_train, y_train)\n",
    "Ridge_model.score(X_test, y_test)\n",
    "predicted_ridge_value = Ridge_model.predict(X_test)"
   ]
  },
  {
   "cell_type": "code",
   "execution_count": 25,
   "id": "415641bf",
   "metadata": {},
   "outputs": [],
   "source": [
    "Lasso_model = Lasso()\n",
    "Lasso_model.fit(X_train, y_train)\n",
    "Lasso_model.score(X_test, y_test)\n",
    "predicted_lasso_value = Lasso_model.predict(X_test)"
   ]
  },
  {
   "cell_type": "code",
   "execution_count": 26,
   "id": "f31157cd",
   "metadata": {},
   "outputs": [],
   "source": [
    "Linear_model = LinearRegression()\n",
    "Linear_model.fit(X_train, y_train)\n",
    "Linear_model.score(X_test, y_test)\n",
    "predicted_linear_value = Linear_model.predict(X_test)"
   ]
  },
  {
   "cell_type": "markdown",
   "id": "9d674dcb",
   "metadata": {},
   "source": [
    "## To Measure the Model'sPerformance"
   ]
  },
  {
   "cell_type": "code",
   "execution_count": 27,
   "id": "10af246e",
   "metadata": {},
   "outputs": [],
   "source": [
    "from sklearn.metrics import r2_score\n",
    "from sklearn.metrics import mean_squared_error\n",
    "from sklearn.metrics import mean_absolute_error"
   ]
  },
  {
   "cell_type": "code",
   "execution_count": 28,
   "id": "9a48f511",
   "metadata": {},
   "outputs": [
    {
     "data": {
      "text/plain": [
       "17.6382095023662"
      ]
     },
     "execution_count": 28,
     "metadata": {},
     "output_type": "execute_result"
    }
   ],
   "source": [
    "# Checking the RSS value\n",
    "rss = np.sum(np.square(y_test - predicted_linear_value))\n",
    "rss"
   ]
  },
  {
   "cell_type": "code",
   "execution_count": 29,
   "id": "8b748986",
   "metadata": {},
   "outputs": [
    {
     "data": {
      "text/plain": [
       "0.04601385943239418"
      ]
     },
     "execution_count": 29,
     "metadata": {},
     "output_type": "execute_result"
    }
   ],
   "source": [
    "# Checking the mean absolute error value\n",
    "MAE = mean_absolute_error(y_test, predicted_linear_value)\n",
    "MAE"
   ]
  },
  {
   "cell_type": "code",
   "execution_count": 30,
   "id": "b6b0d104",
   "metadata": {},
   "outputs": [
    {
     "data": {
      "text/plain": [
       "0.05623761912615699"
      ]
     },
     "execution_count": 30,
     "metadata": {},
     "output_type": "execute_result"
    }
   ],
   "source": [
    "# Checking the mean squared error value\n",
    "MSE = np.sqrt(mean_squared_error(y_test, predicted_linear_value))\n",
    "MSE"
   ]
  },
  {
   "cell_type": "code",
   "execution_count": 31,
   "id": "d51ccd21",
   "metadata": {},
   "outputs": [
    {
     "data": {
      "text/plain": [
       "0.9199545808617396"
      ]
     },
     "execution_count": 31,
     "metadata": {},
     "output_type": "execute_result"
    }
   ],
   "source": [
    "# Checking the R-scored value\n",
    "r2 = r2_score(y_test, predicted_linear_value)\n",
    "r2"
   ]
  },
  {
   "cell_type": "markdown",
   "id": "4a185305",
   "metadata": {},
   "source": [
    "## Using Class Functions to Model data"
   ]
  },
  {
   "cell_type": "code",
   "execution_count": 32,
   "id": "d22714c5",
   "metadata": {},
   "outputs": [],
   "source": [
    "class model:\n",
    "    def __init__(self, model, X_train, y_train, X_test, y_test):\n",
    "        self.model = model()\n",
    "        self.X_train = X_train\n",
    "        self.y_train = y_train\n",
    "        self.X_test = X_test\n",
    "        self.y_test = y_test\n",
    "        \n",
    "    def def_model(model, X_train, y_train, X_test, y_test):\n",
    "        model = model()\n",
    "        X_train = X_train\n",
    "        y_train = y_train\n",
    "        X_test = X_test\n",
    "        y_test = y_test\n",
    "        model = model.fit(X_train, y_train)\n",
    "        Score = model.score(X_test, y_test)\n",
    "        print(\"The Percentage Accuracy of the model: \", Score)\n",
    "        preds = model.predict(X_test)\n",
    "        return preds\n",
    "    \n",
    "    def predicted_values(model, X_test):\n",
    "        model = model()\n",
    "        X_test = X_test\n",
    "        preds = model.predict(X_test)\n",
    "        return preds"
   ]
  },
  {
   "cell_type": "code",
   "execution_count": 33,
   "id": "377edcee",
   "metadata": {},
   "outputs": [
    {
     "name": "stdout",
     "output_type": "stream",
     "text": [
      "The Percentage Accuracy of the model:  0.9199545808617396\n"
     ]
    },
    {
     "data": {
      "text/plain": [
       "array([0.22129869, 0.41599313, 0.38464657, ..., 0.57660747, 0.83126133,\n",
       "       0.50000318])"
      ]
     },
     "execution_count": 33,
     "metadata": {},
     "output_type": "execute_result"
    }
   ],
   "source": [
    "f = model.def_model(LinearRegression, X_train, y_train, X_test, y_test)\n",
    "f"
   ]
  },
  {
   "cell_type": "code",
   "execution_count": 34,
   "id": "279f5e72",
   "metadata": {},
   "outputs": [],
   "source": [
    "class metrics:\n",
    "    def __init__(self, model, metric, y_test, preds):\n",
    "        self.model = model()\n",
    "        self.metric = metric\n",
    "        self.y_test = y_test\n",
    "        self.preds = preds\n",
    "        \n",
    "    def r2(model, metric, y_test, preds):\n",
    "        metric = r2_score()\n",
    "        r2 = r2_score(y_test, preds)\n",
    "        return r2\n",
    "    \n",
    "    def mae(model, metric, y_test, preds):\n",
    "        metric = mean_absolute_error()\n",
    "        MAE = mean_absolute_error(y_test, preds)\n",
    "        return MAE\n",
    "    \n",
    "    def mse(model, y_test, preds):\n",
    "        metric = mean_squared_error()\n",
    "        MSE = np.sqrt(mean_squared_error(y_test, preds))\n",
    "        return MSE\n",
    "    \n",
    "    def rss(model, y_test, preds):\n",
    "        rss = np.sum(np.square(y_test - preds))\n",
    "        return rss"
   ]
  },
  {
   "cell_type": "code",
   "execution_count": 35,
   "id": "689ca2bd",
   "metadata": {
    "scrolled": true
   },
   "outputs": [
    {
     "data": {
      "text/plain": [
       "17.6382095023662"
      ]
     },
     "execution_count": 35,
     "metadata": {},
     "output_type": "execute_result"
    }
   ],
   "source": [
    "rss = metrics.rss(LinearRegression, y_test, f)\n",
    "rss"
   ]
  },
  {
   "cell_type": "markdown",
   "id": "9fc0c271",
   "metadata": {},
   "source": [
    "## To Compare the effects of the Regularization"
   ]
  },
  {
   "cell_type": "code",
   "execution_count": 36,
   "id": "791297a5",
   "metadata": {},
   "outputs": [
    {
     "name": "stdout",
     "output_type": "stream",
     "text": [
      "               Features  Linear_model_weights  Ridge_Weights  Lasso_Weights\n",
      "0   WFH Setup Available             -0.012704      -0.012701           -0.0\n",
      "1           Designation             -0.005093      -0.005088            0.0\n",
      "2          Company Type              0.000065       0.000065            0.0\n",
      "3                Gender              0.004617       0.004617            0.0\n",
      "4   Resource Allocation              0.029088       0.029088            0.0\n",
      "5  Mental Fatigue Score              0.073509       0.073506            0.0\n"
     ]
    }
   ],
   "source": [
    "def get_weights_df(model, feat, col_name):\n",
    "    weights = pd.Series(model.coef_, feat.columns).sort_values()\n",
    "    weights_df = pd.DataFrame(weights).reset_index()\n",
    "    weights_df.columns = [\"Features\", col_name]\n",
    "    weights_df[col_name].round(3)\n",
    "    return weights_df\n",
    "\n",
    "\n",
    "linear_model_weights = get_weights_df(Linear_model, X_train, 'Linear_model_weights')\n",
    "ridge_weights_df = get_weights_df(Ridge_model, X_train, 'Ridge_Weights')\n",
    "lasso_weights_df = get_weights_df(Lasso_model, X_train, 'Lasso_Weights')\n",
    "\n",
    "final_weights = pd.merge(linear_model_weights, ridge_weights_df, on='Features')\n",
    "final_weights2 = pd.merge(final_weights, lasso_weights_df, on='Features')\n",
    "\n",
    "print(final_weights2)"
   ]
  },
  {
   "cell_type": "markdown",
   "id": "9ddb886e",
   "metadata": {},
   "source": [
    "## Testing the data with the Test Set"
   ]
  },
  {
   "cell_type": "code",
   "execution_count": 37,
   "id": "8ffce73f",
   "metadata": {},
   "outputs": [
    {
     "data": {
      "text/html": [
       "<div>\n",
       "<style scoped>\n",
       "    .dataframe tbody tr th:only-of-type {\n",
       "        vertical-align: middle;\n",
       "    }\n",
       "\n",
       "    .dataframe tbody tr th {\n",
       "        vertical-align: top;\n",
       "    }\n",
       "\n",
       "    .dataframe thead th {\n",
       "        text-align: right;\n",
       "    }\n",
       "</style>\n",
       "<table border=\"1\" class=\"dataframe\">\n",
       "  <thead>\n",
       "    <tr style=\"text-align: right;\">\n",
       "      <th></th>\n",
       "      <th>Employee ID</th>\n",
       "      <th>Date of Joining</th>\n",
       "      <th>Gender</th>\n",
       "      <th>Company Type</th>\n",
       "      <th>WFH Setup Available</th>\n",
       "      <th>Designation</th>\n",
       "      <th>Resource Allocation</th>\n",
       "      <th>Mental Fatigue Score</th>\n",
       "    </tr>\n",
       "  </thead>\n",
       "  <tbody>\n",
       "    <tr>\n",
       "      <th>0</th>\n",
       "      <td>fffe31003300390039003000</td>\n",
       "      <td>2008-12-10</td>\n",
       "      <td>Female</td>\n",
       "      <td>Service</td>\n",
       "      <td>No</td>\n",
       "      <td>2.0</td>\n",
       "      <td>5.0</td>\n",
       "      <td>7.7</td>\n",
       "    </tr>\n",
       "    <tr>\n",
       "      <th>1</th>\n",
       "      <td>fffe31003300310037003800</td>\n",
       "      <td>2008-08-14</td>\n",
       "      <td>Female</td>\n",
       "      <td>Product</td>\n",
       "      <td>Yes</td>\n",
       "      <td>1.0</td>\n",
       "      <td>2.0</td>\n",
       "      <td>5.2</td>\n",
       "    </tr>\n",
       "    <tr>\n",
       "      <th>2</th>\n",
       "      <td>fffe33003400380035003900</td>\n",
       "      <td>2008-11-13</td>\n",
       "      <td>Male</td>\n",
       "      <td>Product</td>\n",
       "      <td>Yes</td>\n",
       "      <td>1.0</td>\n",
       "      <td>3.0</td>\n",
       "      <td>5.9</td>\n",
       "    </tr>\n",
       "    <tr>\n",
       "      <th>3</th>\n",
       "      <td>fffe3100370039003200</td>\n",
       "      <td>2008-02-07</td>\n",
       "      <td>Female</td>\n",
       "      <td>Service</td>\n",
       "      <td>No</td>\n",
       "      <td>3.0</td>\n",
       "      <td>6.0</td>\n",
       "      <td>4.6</td>\n",
       "    </tr>\n",
       "    <tr>\n",
       "      <th>4</th>\n",
       "      <td>fffe32003600390036003700</td>\n",
       "      <td>2008-07-17</td>\n",
       "      <td>Female</td>\n",
       "      <td>Product</td>\n",
       "      <td>No</td>\n",
       "      <td>2.0</td>\n",
       "      <td>5.0</td>\n",
       "      <td>6.4</td>\n",
       "    </tr>\n",
       "  </tbody>\n",
       "</table>\n",
       "</div>"
      ],
      "text/plain": [
       "                Employee ID Date of Joining  Gender Company Type  \\\n",
       "0  fffe31003300390039003000      2008-12-10  Female      Service   \n",
       "1  fffe31003300310037003800      2008-08-14  Female      Product   \n",
       "2  fffe33003400380035003900      2008-11-13    Male      Product   \n",
       "3      fffe3100370039003200      2008-02-07  Female      Service   \n",
       "4  fffe32003600390036003700      2008-07-17  Female      Product   \n",
       "\n",
       "  WFH Setup Available  Designation  Resource Allocation  Mental Fatigue Score  \n",
       "0                  No          2.0                  5.0                   7.7  \n",
       "1                 Yes          1.0                  2.0                   5.2  \n",
       "2                 Yes          1.0                  3.0                   5.9  \n",
       "3                  No          3.0                  6.0                   4.6  \n",
       "4                  No          2.0                  5.0                   6.4  "
      ]
     },
     "execution_count": 37,
     "metadata": {},
     "output_type": "execute_result"
    }
   ],
   "source": [
    "test_df = pd.read_csv(\"test.csv_burnout\")\n",
    "\n",
    "test_df.head(5)"
   ]
  },
  {
   "cell_type": "code",
   "execution_count": 38,
   "id": "0f4cc815",
   "metadata": {},
   "outputs": [],
   "source": [
    "#X = test_df.drop([\"Date of Joining\", \"Employee ID\"], axis=1)\n",
    "#y = "
   ]
  },
  {
   "cell_type": "code",
   "execution_count": 41,
   "id": "c6900634",
   "metadata": {},
   "outputs": [
    {
     "data": {
      "text/html": [
       "<div>\n",
       "<style scoped>\n",
       "    .dataframe tbody tr th:only-of-type {\n",
       "        vertical-align: middle;\n",
       "    }\n",
       "\n",
       "    .dataframe tbody tr th {\n",
       "        vertical-align: top;\n",
       "    }\n",
       "\n",
       "    .dataframe thead th {\n",
       "        text-align: right;\n",
       "    }\n",
       "</style>\n",
       "<table border=\"1\" class=\"dataframe\">\n",
       "  <thead>\n",
       "    <tr style=\"text-align: right;\">\n",
       "      <th></th>\n",
       "      <th>Employee ID</th>\n",
       "      <th>Date of Joining</th>\n",
       "      <th>Gender</th>\n",
       "      <th>Company Type</th>\n",
       "      <th>WFH Setup Available</th>\n",
       "      <th>Designation</th>\n",
       "      <th>Resource Allocation</th>\n",
       "      <th>Mental Fatigue Score</th>\n",
       "    </tr>\n",
       "  </thead>\n",
       "  <tbody>\n",
       "    <tr>\n",
       "      <th>0</th>\n",
       "      <td>fffe31003300390039003000</td>\n",
       "      <td>2008-12-10</td>\n",
       "      <td>0</td>\n",
       "      <td>1</td>\n",
       "      <td>0</td>\n",
       "      <td>2.0</td>\n",
       "      <td>5.0</td>\n",
       "      <td>7.7</td>\n",
       "    </tr>\n",
       "    <tr>\n",
       "      <th>1</th>\n",
       "      <td>fffe31003300310037003800</td>\n",
       "      <td>2008-08-14</td>\n",
       "      <td>0</td>\n",
       "      <td>0</td>\n",
       "      <td>1</td>\n",
       "      <td>1.0</td>\n",
       "      <td>2.0</td>\n",
       "      <td>5.2</td>\n",
       "    </tr>\n",
       "    <tr>\n",
       "      <th>2</th>\n",
       "      <td>fffe33003400380035003900</td>\n",
       "      <td>2008-11-13</td>\n",
       "      <td>1</td>\n",
       "      <td>0</td>\n",
       "      <td>1</td>\n",
       "      <td>1.0</td>\n",
       "      <td>3.0</td>\n",
       "      <td>5.9</td>\n",
       "    </tr>\n",
       "    <tr>\n",
       "      <th>3</th>\n",
       "      <td>fffe3100370039003200</td>\n",
       "      <td>2008-02-07</td>\n",
       "      <td>0</td>\n",
       "      <td>1</td>\n",
       "      <td>0</td>\n",
       "      <td>3.0</td>\n",
       "      <td>6.0</td>\n",
       "      <td>4.6</td>\n",
       "    </tr>\n",
       "    <tr>\n",
       "      <th>4</th>\n",
       "      <td>fffe32003600390036003700</td>\n",
       "      <td>2008-07-17</td>\n",
       "      <td>0</td>\n",
       "      <td>0</td>\n",
       "      <td>0</td>\n",
       "      <td>2.0</td>\n",
       "      <td>5.0</td>\n",
       "      <td>6.4</td>\n",
       "    </tr>\n",
       "  </tbody>\n",
       "</table>\n",
       "</div>"
      ],
      "text/plain": [
       "                Employee ID Date of Joining  Gender  Company Type  \\\n",
       "0  fffe31003300390039003000      2008-12-10       0             1   \n",
       "1  fffe31003300310037003800      2008-08-14       0             0   \n",
       "2  fffe33003400380035003900      2008-11-13       1             0   \n",
       "3      fffe3100370039003200      2008-02-07       0             1   \n",
       "4  fffe32003600390036003700      2008-07-17       0             0   \n",
       "\n",
       "   WFH Setup Available  Designation  Resource Allocation  Mental Fatigue Score  \n",
       "0                    0          2.0                  5.0                   7.7  \n",
       "1                    1          1.0                  2.0                   5.2  \n",
       "2                    1          1.0                  3.0                   5.9  \n",
       "3                    0          3.0                  6.0                   4.6  \n",
       "4                    0          2.0                  5.0                   6.4  "
      ]
     },
     "execution_count": 41,
     "metadata": {},
     "output_type": "execute_result"
    }
   ],
   "source": [
    "test_df.Gender = le.fit_transform(test_df.Gender)\n",
    "test_df[\"WFH Setup Available\"] = le.fit_transform(test_df[\"WFH Setup Available\"])\n",
    "test_df[\"Company Type\"] = le.fit_transform(test_df[\"Company Type\"])\n",
    "test_df.head()"
   ]
  },
  {
   "cell_type": "code",
   "execution_count": 45,
   "id": "49a52977",
   "metadata": {},
   "outputs": [
    {
     "data": {
      "text/plain": [
       "array([0.61756299, 0.33884883, 0.42401105, ..., 0.80983922, 0.57266676,\n",
       "       0.11123049])"
      ]
     },
     "execution_count": 45,
     "metadata": {},
     "output_type": "execute_result"
    }
   ],
   "source": [
    "val = Linear_model.predict(test_df.drop([\"Employee ID\", \"Date of Joining\"], axis=1))\n",
    "val"
   ]
  },
  {
   "cell_type": "code",
   "execution_count": 48,
   "id": "18d23623",
   "metadata": {},
   "outputs": [
    {
     "data": {
      "text/html": [
       "<div>\n",
       "<style scoped>\n",
       "    .dataframe tbody tr th:only-of-type {\n",
       "        vertical-align: middle;\n",
       "    }\n",
       "\n",
       "    .dataframe tbody tr th {\n",
       "        vertical-align: top;\n",
       "    }\n",
       "\n",
       "    .dataframe thead th {\n",
       "        text-align: right;\n",
       "    }\n",
       "</style>\n",
       "<table border=\"1\" class=\"dataframe\">\n",
       "  <thead>\n",
       "    <tr style=\"text-align: right;\">\n",
       "      <th></th>\n",
       "      <th>Employee ID</th>\n",
       "      <th>Date of Joining</th>\n",
       "      <th>Gender</th>\n",
       "      <th>Company Type</th>\n",
       "      <th>WFH Setup Available</th>\n",
       "      <th>Designation</th>\n",
       "      <th>Resource Allocation</th>\n",
       "      <th>Mental Fatigue Score</th>\n",
       "      <th>Burn_rate</th>\n",
       "    </tr>\n",
       "  </thead>\n",
       "  <tbody>\n",
       "    <tr>\n",
       "      <th>0</th>\n",
       "      <td>fffe31003300390039003000</td>\n",
       "      <td>2008-12-10</td>\n",
       "      <td>0</td>\n",
       "      <td>1</td>\n",
       "      <td>0</td>\n",
       "      <td>2.0</td>\n",
       "      <td>5.0</td>\n",
       "      <td>7.7</td>\n",
       "      <td>0.617563</td>\n",
       "    </tr>\n",
       "    <tr>\n",
       "      <th>1</th>\n",
       "      <td>fffe31003300310037003800</td>\n",
       "      <td>2008-08-14</td>\n",
       "      <td>0</td>\n",
       "      <td>0</td>\n",
       "      <td>1</td>\n",
       "      <td>1.0</td>\n",
       "      <td>2.0</td>\n",
       "      <td>5.2</td>\n",
       "      <td>0.338849</td>\n",
       "    </tr>\n",
       "    <tr>\n",
       "      <th>2</th>\n",
       "      <td>fffe33003400380035003900</td>\n",
       "      <td>2008-11-13</td>\n",
       "      <td>1</td>\n",
       "      <td>0</td>\n",
       "      <td>1</td>\n",
       "      <td>1.0</td>\n",
       "      <td>3.0</td>\n",
       "      <td>5.9</td>\n",
       "      <td>0.424011</td>\n",
       "    </tr>\n",
       "    <tr>\n",
       "      <th>3</th>\n",
       "      <td>fffe3100370039003200</td>\n",
       "      <td>2008-02-07</td>\n",
       "      <td>0</td>\n",
       "      <td>1</td>\n",
       "      <td>0</td>\n",
       "      <td>3.0</td>\n",
       "      <td>6.0</td>\n",
       "      <td>4.6</td>\n",
       "      <td>0.413680</td>\n",
       "    </tr>\n",
       "    <tr>\n",
       "      <th>4</th>\n",
       "      <td>fffe32003600390036003700</td>\n",
       "      <td>2008-07-17</td>\n",
       "      <td>0</td>\n",
       "      <td>0</td>\n",
       "      <td>0</td>\n",
       "      <td>2.0</td>\n",
       "      <td>5.0</td>\n",
       "      <td>6.4</td>\n",
       "      <td>0.521936</td>\n",
       "    </tr>\n",
       "  </tbody>\n",
       "</table>\n",
       "</div>"
      ],
      "text/plain": [
       "                Employee ID Date of Joining  Gender  Company Type  \\\n",
       "0  fffe31003300390039003000      2008-12-10       0             1   \n",
       "1  fffe31003300310037003800      2008-08-14       0             0   \n",
       "2  fffe33003400380035003900      2008-11-13       1             0   \n",
       "3      fffe3100370039003200      2008-02-07       0             1   \n",
       "4  fffe32003600390036003700      2008-07-17       0             0   \n",
       "\n",
       "   WFH Setup Available  Designation  Resource Allocation  \\\n",
       "0                    0          2.0                  5.0   \n",
       "1                    1          1.0                  2.0   \n",
       "2                    1          1.0                  3.0   \n",
       "3                    0          3.0                  6.0   \n",
       "4                    0          2.0                  5.0   \n",
       "\n",
       "   Mental Fatigue Score  Burn_rate  \n",
       "0                   7.7   0.617563  \n",
       "1                   5.2   0.338849  \n",
       "2                   5.9   0.424011  \n",
       "3                   4.6   0.413680  \n",
       "4                   6.4   0.521936  "
      ]
     },
     "execution_count": 48,
     "metadata": {},
     "output_type": "execute_result"
    }
   ],
   "source": [
    "test_df[\"Burn_rate\"] = val\n",
    "test_df.head()"
   ]
  },
  {
   "cell_type": "code",
   "execution_count": 50,
   "id": "48d2b4f3",
   "metadata": {},
   "outputs": [
    {
     "data": {
      "text/html": [
       "<div>\n",
       "<style scoped>\n",
       "    .dataframe tbody tr th:only-of-type {\n",
       "        vertical-align: middle;\n",
       "    }\n",
       "\n",
       "    .dataframe tbody tr th {\n",
       "        vertical-align: top;\n",
       "    }\n",
       "\n",
       "    .dataframe thead th {\n",
       "        text-align: right;\n",
       "    }\n",
       "</style>\n",
       "<table border=\"1\" class=\"dataframe\">\n",
       "  <thead>\n",
       "    <tr style=\"text-align: right;\">\n",
       "      <th></th>\n",
       "      <th>Employee ID</th>\n",
       "      <th>Burn_rate</th>\n",
       "    </tr>\n",
       "  </thead>\n",
       "  <tbody>\n",
       "    <tr>\n",
       "      <th>0</th>\n",
       "      <td>fffe31003300390039003000</td>\n",
       "      <td>0.617563</td>\n",
       "    </tr>\n",
       "    <tr>\n",
       "      <th>1</th>\n",
       "      <td>fffe31003300310037003800</td>\n",
       "      <td>0.338849</td>\n",
       "    </tr>\n",
       "    <tr>\n",
       "      <th>2</th>\n",
       "      <td>fffe33003400380035003900</td>\n",
       "      <td>0.424011</td>\n",
       "    </tr>\n",
       "    <tr>\n",
       "      <th>3</th>\n",
       "      <td>fffe3100370039003200</td>\n",
       "      <td>0.413680</td>\n",
       "    </tr>\n",
       "    <tr>\n",
       "      <th>4</th>\n",
       "      <td>fffe32003600390036003700</td>\n",
       "      <td>0.521936</td>\n",
       "    </tr>\n",
       "    <tr>\n",
       "      <th>...</th>\n",
       "      <td>...</td>\n",
       "      <td>...</td>\n",
       "    </tr>\n",
       "    <tr>\n",
       "      <th>12245</th>\n",
       "      <td>fffe3900310034003700</td>\n",
       "      <td>0.405072</td>\n",
       "    </tr>\n",
       "    <tr>\n",
       "      <th>12246</th>\n",
       "      <td>fffe32003600330034003000</td>\n",
       "      <td>0.443389</td>\n",
       "    </tr>\n",
       "    <tr>\n",
       "      <th>12247</th>\n",
       "      <td>fffe31003800340039003000</td>\n",
       "      <td>0.809839</td>\n",
       "    </tr>\n",
       "    <tr>\n",
       "      <th>12248</th>\n",
       "      <td>fffe32003600380031003800</td>\n",
       "      <td>0.572667</td>\n",
       "    </tr>\n",
       "    <tr>\n",
       "      <th>12249</th>\n",
       "      <td>fffe32003100390037003800</td>\n",
       "      <td>0.111230</td>\n",
       "    </tr>\n",
       "  </tbody>\n",
       "</table>\n",
       "<p>12250 rows × 2 columns</p>\n",
       "</div>"
      ],
      "text/plain": [
       "                    Employee ID  Burn_rate\n",
       "0      fffe31003300390039003000   0.617563\n",
       "1      fffe31003300310037003800   0.338849\n",
       "2      fffe33003400380035003900   0.424011\n",
       "3          fffe3100370039003200   0.413680\n",
       "4      fffe32003600390036003700   0.521936\n",
       "...                         ...        ...\n",
       "12245      fffe3900310034003700   0.405072\n",
       "12246  fffe32003600330034003000   0.443389\n",
       "12247  fffe31003800340039003000   0.809839\n",
       "12248  fffe32003600380031003800   0.572667\n",
       "12249  fffe32003100390037003800   0.111230\n",
       "\n",
       "[12250 rows x 2 columns]"
      ]
     },
     "execution_count": 50,
     "metadata": {},
     "output_type": "execute_result"
    }
   ],
   "source": [
    "test_df_sub = test_df.drop([\"Date of Joining\",\"Gender\", \"Company Type\", \"WFH Setup Available\", \"Designation\", \"Resource Allocation\", \"Mental Fatigue Score\"], axis=1)\n",
    "test_df_sub"
   ]
  },
  {
   "cell_type": "markdown",
   "id": "7e126344",
   "metadata": {},
   "source": [
    "## My Submission"
   ]
  },
  {
   "cell_type": "code",
   "execution_count": 51,
   "id": "eca4bc70",
   "metadata": {},
   "outputs": [],
   "source": [
    "test_df_sub = test_df_sub.to_csv(\"test_df_sub.csv\")"
   ]
  }
 ],
 "metadata": {
  "kernelspec": {
   "display_name": "Python 3",
   "language": "python",
   "name": "python3"
  },
  "language_info": {
   "codemirror_mode": {
    "name": "ipython",
    "version": 3
   },
   "file_extension": ".py",
   "mimetype": "text/x-python",
   "name": "python",
   "nbconvert_exporter": "python",
   "pygments_lexer": "ipython3",
   "version": "3.8.8"
  }
 },
 "nbformat": 4,
 "nbformat_minor": 5
}
